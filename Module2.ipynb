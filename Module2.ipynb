{
  "nbformat": 4,
  "nbformat_minor": 0,
  "metadata": {
    "colab": {
      "provenance": [],
      "authorship_tag": "ABX9TyPWBrBkZ+YKbDHVV+93BhM9",
      "include_colab_link": true
    },
    "kernelspec": {
      "name": "python3",
      "display_name": "Python 3"
    },
    "language_info": {
      "name": "python"
    }
  },
  "cells": [
    {
      "cell_type": "markdown",
      "metadata": {
        "id": "view-in-github",
        "colab_type": "text"
      },
      "source": [
        "<a href=\"https://colab.research.google.com/github/TEJASREE-PASALUR/Python-Edube/blob/main/Module2.ipynb\" target=\"_parent\"><img src=\"https://colab.research.google.com/assets/colab-badge.svg\" alt=\"Open In Colab\"/></a>"
      ]
    },
    {
      "cell_type": "code",
      "execution_count": null,
      "metadata": {
        "id": "JgwrLcoUE3vR"
      },
      "outputs": [],
      "source": [
        "# ipynb=Interactive python notebook\n",
        "#py=python\n",
        "#hashtag(#) represents comment\n",
        "# to run any cell---->ctrl+enter,shift+enter,alt+enter"
      ]
    },
    {
      "cell_type": "code",
      "source": [
        "#python programming"
      ],
      "metadata": {
        "id": "yAWj5NcLGTo7"
      },
      "execution_count": null,
      "outputs": []
    },
    {
      "cell_type": "code",
      "source": [
        "print(\"Hello World!\")"
      ],
      "metadata": {
        "colab": {
          "base_uri": "https://localhost:8080/"
        },
        "id": "tw6BNfZyGVmm",
        "outputId": "e872c641-bba8-49bb-eab2-0f04f5fed671"
      },
      "execution_count": null,
      "outputs": [
        {
          "output_type": "stream",
          "name": "stdout",
          "text": [
            "Hello World!\n"
          ]
        }
      ]
    },
    {
      "cell_type": "code",
      "source": [
        "# Sequences in Python\n",
        "# Unlinke variables these store values not only for one but stores for many\n",
        "# Ex:Lists=[Ordered, mutables and allow duplicates]\n",
        "#Tuples=(Ordered and immutable-can't be changed using operations)\n",
        "#Sets={Unordered}\n",
        "#Dictionaries={key1:value 1,key2:value2,....}"
      ],
      "metadata": {
        "id": "zFiVU0CKGb68"
      },
      "execution_count": null,
      "outputs": []
    },
    {
      "cell_type": "code",
      "source": [
        "#list[]\n",
        "a=[1,4,6,7]\n",
        "print (a)"
      ],
      "metadata": {
        "colab": {
          "base_uri": "https://localhost:8080/"
        },
        "id": "JFG_Xl3-H9zq",
        "outputId": "c054e0de-eac0-4f21-eb1c-34bb97d26aad"
      },
      "execution_count": null,
      "outputs": [
        {
          "output_type": "stream",
          "name": "stdout",
          "text": [
            "[1, 4, 6, 7]\n"
          ]
        }
      ]
    },
    {
      "cell_type": "code",
      "source": [
        "a"
      ],
      "metadata": {
        "colab": {
          "base_uri": "https://localhost:8080/"
        },
        "id": "64fYhQJSIFeu",
        "outputId": "82cf935b-f18d-4071-ed0e-135860c41f27"
      },
      "execution_count": null,
      "outputs": [
        {
          "output_type": "execute_result",
          "data": {
            "text/plain": [
              "[1, 4, 6, 7]"
            ]
          },
          "metadata": {},
          "execution_count": 7
        }
      ]
    },
    {
      "cell_type": "code",
      "source": [
        "b=['hai',30,True,20.5]\n",
        "print (b)"
      ],
      "metadata": {
        "colab": {
          "base_uri": "https://localhost:8080/"
        },
        "id": "FnCPOXktIIeg",
        "outputId": "b4cef8b6-105c-44d7-cdbc-5d63bf6785a7"
      },
      "execution_count": null,
      "outputs": [
        {
          "output_type": "stream",
          "name": "stdout",
          "text": [
            "['hai', 30, True, 20.5]\n"
          ]
        }
      ]
    },
    {
      "cell_type": "code",
      "source": [
        "fruits=['apple','banana','cherry']\n",
        "print (fruits)"
      ],
      "metadata": {
        "colab": {
          "base_uri": "https://localhost:8080/"
        },
        "id": "nVQ50AkgIaES",
        "outputId": "93e20868-0df7-497f-ef22-c0b05eefc423"
      },
      "execution_count": null,
      "outputs": [
        {
          "output_type": "stream",
          "name": "stdout",
          "text": [
            "['apple', 'banana', 'cherry']\n"
          ]
        }
      ]
    },
    {
      "cell_type": "code",
      "source": [
        "fruits.append('Pine apple')\n",
        "print (fruits)"
      ],
      "metadata": {
        "id": "oHtivmYQImT7",
        "colab": {
          "base_uri": "https://localhost:8080/"
        },
        "outputId": "27b2afb4-ed03-47a7-f0c0-9f8e78fed407"
      },
      "execution_count": 15,
      "outputs": [
        {
          "output_type": "stream",
          "name": "stdout",
          "text": [
            "['apple', 'banana', 'cherry', 'Pine apple', 'Pine apple', 'Pine apple']\n"
          ]
        }
      ]
    },
    {
      "cell_type": "code",
      "source": [
        "fruits.insert(2,'Blue berry')\n",
        "print(fruits)"
      ],
      "metadata": {
        "id": "d6y9N5XrJDa0",
        "colab": {
          "base_uri": "https://localhost:8080/"
        },
        "outputId": "40e20dd0-6c0d-4a3f-eb4f-cf57115667db"
      },
      "execution_count": 13,
      "outputs": [
        {
          "output_type": "stream",
          "name": "stdout",
          "text": [
            "['apple', 'banana', 'Blue berry', 'cherry', 'Pine apple', 'Pine apple']\n"
          ]
        }
      ]
    },
    {
      "cell_type": "code",
      "source": [
        "fruits.remove('Pine apple')\n",
        "print(fruits)"
      ],
      "metadata": {
        "colab": {
          "base_uri": "https://localhost:8080/"
        },
        "id": "9tkyzortJ7ZA",
        "outputId": "e7350caa-a3ec-4fe1-bc67-acc8dae0fadb"
      },
      "execution_count": 21,
      "outputs": [
        {
          "output_type": "stream",
          "name": "stdout",
          "text": [
            "['apple', 'cherry', 'Pine apple', 'Pine apple']\n"
          ]
        }
      ]
    },
    {
      "cell_type": "code",
      "source": [
        "fruits.append('Orange')\n",
        "print(fruits)"
      ],
      "metadata": {
        "colab": {
          "base_uri": "https://localhost:8080/"
        },
        "id": "jemgk1hqKg-1",
        "outputId": "ad548986-c3d4-44f3-ca8a-f293c9fcfb04"
      },
      "execution_count": 27,
      "outputs": [
        {
          "output_type": "stream",
          "name": "stdout",
          "text": [
            "['apple', 'cherry', 'Orange']\n"
          ]
        }
      ]
    },
    {
      "cell_type": "code",
      "source": [
        "fruits.insert(3,'Guava')\n",
        "print(fruits)"
      ],
      "metadata": {
        "colab": {
          "base_uri": "https://localhost:8080/"
        },
        "id": "TIj9Xu6nK6-P",
        "outputId": "ee59273b-187b-4a5f-9123-a2248bb80769"
      },
      "execution_count": 28,
      "outputs": [
        {
          "output_type": "stream",
          "name": "stdout",
          "text": [
            "['apple', 'cherry', 'Orange', 'Guava']\n"
          ]
        }
      ]
    },
    {
      "cell_type": "code",
      "source": [
        "fruits.pop(0)\n",
        "print(fruits)"
      ],
      "metadata": {
        "colab": {
          "base_uri": "https://localhost:8080/"
        },
        "id": "U7O_1RnELI1V",
        "outputId": "8c293a6f-2187-4116-eb1f-5a7b67bdcf43"
      },
      "execution_count": 29,
      "outputs": [
        {
          "output_type": "stream",
          "name": "stdout",
          "text": [
            "['cherry', 'Orange', 'Guava']\n"
          ]
        }
      ]
    },
    {
      "cell_type": "code",
      "source": [
        "fruits.reverse()\n",
        "print(fruits)"
      ],
      "metadata": {
        "colab": {
          "base_uri": "https://localhost:8080/"
        },
        "id": "7vXA9UakLOL1",
        "outputId": "a51e40e4-163a-4f38-90f6-0c2c48f880a3"
      },
      "execution_count": 30,
      "outputs": [
        {
          "output_type": "stream",
          "name": "stdout",
          "text": [
            "['Guava', 'Orange', 'cherry']\n"
          ]
        }
      ]
    },
    {
      "cell_type": "code",
      "source": [
        "fruits[0]"
      ],
      "metadata": {
        "colab": {
          "base_uri": "https://localhost:8080/",
          "height": 36
        },
        "id": "jpE5xdFhLxKz",
        "outputId": "d7b26398-a54e-482b-fb4f-73565b21bc61"
      },
      "execution_count": 34,
      "outputs": [
        {
          "output_type": "execute_result",
          "data": {
            "text/plain": [
              "'Guava'"
            ],
            "application/vnd.google.colaboratory.intrinsic+json": {
              "type": "string"
            }
          },
          "metadata": {},
          "execution_count": 34
        }
      ]
    },
    {
      "cell_type": "code",
      "source": [
        "fruits[-1]"
      ],
      "metadata": {
        "colab": {
          "base_uri": "https://localhost:8080/",
          "height": 36
        },
        "id": "7yaDuBGSL1ix",
        "outputId": "09603309-d0ad-4fb1-dd04-26db130955b6"
      },
      "execution_count": 36,
      "outputs": [
        {
          "output_type": "execute_result",
          "data": {
            "text/plain": [
              "'cherry'"
            ],
            "application/vnd.google.colaboratory.intrinsic+json": {
              "type": "string"
            }
          },
          "metadata": {},
          "execution_count": 36
        }
      ]
    },
    {
      "cell_type": "code",
      "source": [
        "fruits[0:2] # starts from zero element and stops before 2nd element"
      ],
      "metadata": {
        "colab": {
          "base_uri": "https://localhost:8080/"
        },
        "id": "efDMPGqaL9V4",
        "outputId": "0d08ad0b-3f83-4ff5-e6ad-64588fb2651b"
      },
      "execution_count": 37,
      "outputs": [
        {
          "output_type": "execute_result",
          "data": {
            "text/plain": [
              "['Guava', 'Orange']"
            ]
          },
          "metadata": {},
          "execution_count": 37
        }
      ]
    },
    {
      "cell_type": "code",
      "source": [
        "fruits[0:-1] # includes zero element and doesnot include the last element i.e, stops before the last element"
      ],
      "metadata": {
        "colab": {
          "base_uri": "https://localhost:8080/"
        },
        "id": "LQXIMwYfMTxv",
        "outputId": "220d2094-9478-4f73-d989-80fafe0961a0"
      },
      "execution_count": 38,
      "outputs": [
        {
          "output_type": "execute_result",
          "data": {
            "text/plain": [
              "['Guava', 'Orange']"
            ]
          },
          "metadata": {},
          "execution_count": 38
        }
      ]
    },
    {
      "cell_type": "code",
      "source": [
        "# 5 operations of list\n",
        "# list.append('string')=adds the variable to the list\n",
        "#list.insert(int,'string)=adds the variable at the desired index i.e, int\n",
        "#list.remove('String')=removes the element from the list\n",
        "#list.pop(int)=removes element from the list at the desired index\n",
        "#list.reverse()=reverse the complete list"
      ],
      "metadata": {
        "id": "7EHeTFPeMfxq"
      },
      "execution_count": 39,
      "outputs": []
    },
    {
      "cell_type": "code",
      "source": [
        "#TUPLES=very much faster and efficient when compared to list bt due to immutable nature not prefferred"
      ],
      "metadata": {
        "id": "jSxkka2NOhFN"
      },
      "execution_count": null,
      "outputs": []
    },
    {
      "cell_type": "code",
      "source": [
        "a=(1,2,3,4,5)\n",
        "print(a)\n",
        "type(a)"
      ],
      "metadata": {
        "colab": {
          "base_uri": "https://localhost:8080/"
        },
        "id": "tAPhahRjOsH2",
        "outputId": "bc91e4f9-cc28-4ad6-acf2-2335a36eb502"
      },
      "execution_count": 40,
      "outputs": [
        {
          "output_type": "stream",
          "name": "stdout",
          "text": [
            "(1, 2, 3, 4, 5)\n"
          ]
        },
        {
          "output_type": "execute_result",
          "data": {
            "text/plain": [
              "tuple"
            ]
          },
          "metadata": {},
          "execution_count": 40
        }
      ]
    },
    {
      "cell_type": "code",
      "source": [
        "b=(55,True,'Teja')\n",
        "print (b)"
      ],
      "metadata": {
        "colab": {
          "base_uri": "https://localhost:8080/"
        },
        "id": "8FMlww3lO1kh",
        "outputId": "74c0326a-8807-40e5-e6b4-1225fcef29f7"
      },
      "execution_count": 41,
      "outputs": [
        {
          "output_type": "stream",
          "name": "stdout",
          "text": [
            "(55, True, 'Teja')\n"
          ]
        }
      ]
    },
    {
      "cell_type": "code",
      "source": [
        "b"
      ],
      "metadata": {
        "colab": {
          "base_uri": "https://localhost:8080/"
        },
        "id": "H0SF7krRO-9s",
        "outputId": "05701e5d-d15f-43ff-9b12-3d127ca934ef"
      },
      "execution_count": 42,
      "outputs": [
        {
          "output_type": "execute_result",
          "data": {
            "text/plain": [
              "(55, True, 'Teja')"
            ]
          },
          "metadata": {},
          "execution_count": 42
        }
      ]
    },
    {
      "cell_type": "code",
      "source": [
        "b.insert(3,'Lasya')\n",
        "print(b)"
      ],
      "metadata": {
        "colab": {
          "base_uri": "https://localhost:8080/",
          "height": 158
        },
        "id": "dX0WwEkbPAB6",
        "outputId": "a250f055-ff19-4465-89a9-f31c913d5a7f"
      },
      "execution_count": 44,
      "outputs": [
        {
          "output_type": "error",
          "ename": "AttributeError",
          "evalue": "'tuple' object has no attribute 'insert'",
          "traceback": [
            "\u001b[0;31m---------------------------------------------------------------------------\u001b[0m",
            "\u001b[0;31mAttributeError\u001b[0m                            Traceback (most recent call last)",
            "\u001b[0;32m<ipython-input-44-596dadcb65c2>\u001b[0m in \u001b[0;36m<cell line: 1>\u001b[0;34m()\u001b[0m\n\u001b[0;32m----> 1\u001b[0;31m \u001b[0mb\u001b[0m\u001b[0;34m.\u001b[0m\u001b[0minsert\u001b[0m\u001b[0;34m(\u001b[0m\u001b[0;36m3\u001b[0m\u001b[0;34m,\u001b[0m\u001b[0;34m'Lasya'\u001b[0m\u001b[0;34m)\u001b[0m\u001b[0;34m\u001b[0m\u001b[0;34m\u001b[0m\u001b[0m\n\u001b[0m\u001b[1;32m      2\u001b[0m \u001b[0mprint\u001b[0m\u001b[0;34m(\u001b[0m\u001b[0mb\u001b[0m\u001b[0;34m)\u001b[0m\u001b[0;34m\u001b[0m\u001b[0;34m\u001b[0m\u001b[0m\n",
            "\u001b[0;31mAttributeError\u001b[0m: 'tuple' object has no attribute 'insert'"
          ]
        }
      ]
    },
    {
      "cell_type": "code",
      "source": [
        "#Tuples= We can't change element in tuple bt we can change them during creating them at first"
      ],
      "metadata": {
        "id": "T4LTaRW4PNlE"
      },
      "execution_count": null,
      "outputs": []
    },
    {
      "cell_type": "code",
      "source": [
        "#Set={} contaions only variables or numbers seperated by ,"
      ],
      "metadata": {
        "id": "4fLghcRfPXQh"
      },
      "execution_count": null,
      "outputs": []
    },
    {
      "cell_type": "code",
      "source": [
        "a={1,4,5,77,8}\n",
        "print(a)\n",
        "type(a)"
      ],
      "metadata": {
        "colab": {
          "base_uri": "https://localhost:8080/"
        },
        "id": "AMjeqawhPuvi",
        "outputId": "be53bdcc-544e-478d-d3bb-8cd987e56a06"
      },
      "execution_count": 45,
      "outputs": [
        {
          "output_type": "stream",
          "name": "stdout",
          "text": [
            "{1, 4, 5, 8, 77}\n"
          ]
        },
        {
          "output_type": "execute_result",
          "data": {
            "text/plain": [
              "set"
            ]
          },
          "metadata": {},
          "execution_count": 45
        }
      ]
    },
    {
      "cell_type": "code",
      "source": [
        "b={4,5,7,9,12,45}\n",
        "print(b)"
      ],
      "metadata": {
        "colab": {
          "base_uri": "https://localhost:8080/"
        },
        "id": "PK1rYjAqP1Dx",
        "outputId": "273fb385-9c20-4f52-949f-865c3773e77c"
      },
      "execution_count": 46,
      "outputs": [
        {
          "output_type": "stream",
          "name": "stdout",
          "text": [
            "{4, 5, 7, 9, 12, 45}\n"
          ]
        }
      ]
    },
    {
      "cell_type": "code",
      "source": [
        "c=a|b  ## a union b\n",
        "c"
      ],
      "metadata": {
        "colab": {
          "base_uri": "https://localhost:8080/"
        },
        "id": "9yIjSt6vP8Xx",
        "outputId": "b3091695-1777-403d-893c-640cbe41f417"
      },
      "execution_count": 48,
      "outputs": [
        {
          "output_type": "execute_result",
          "data": {
            "text/plain": [
              "{1, 4, 5, 7, 8, 9, 12, 45, 77}"
            ]
          },
          "metadata": {},
          "execution_count": 48
        }
      ]
    },
    {
      "cell_type": "code",
      "source": [
        "d=a&b ## a intersection b\n",
        "d"
      ],
      "metadata": {
        "colab": {
          "base_uri": "https://localhost:8080/"
        },
        "id": "Z9DlLycTQReO",
        "outputId": "fe592483-bdf2-4ddb-de61-d50f2dc0b973"
      },
      "execution_count": 49,
      "outputs": [
        {
          "output_type": "execute_result",
          "data": {
            "text/plain": [
              "{4, 5}"
            ]
          },
          "metadata": {},
          "execution_count": 49
        }
      ]
    },
    {
      "cell_type": "code",
      "source": [
        "#DICTIONARIES={key:value,key1:value1,...etc...} contains both key value and elements"
      ],
      "metadata": {
        "id": "AbfvHIzHQdHO"
      },
      "execution_count": null,
      "outputs": []
    },
    {
      "cell_type": "code",
      "source": [
        "dict={'first':'Teja','last':'sree'}\n",
        "type(dict)\n",
        "print(dict)"
      ],
      "metadata": {
        "colab": {
          "base_uri": "https://localhost:8080/"
        },
        "id": "cn6kaMIxRKz6",
        "outputId": "c00c686c-3e10-4252-853d-f5a22565a200"
      },
      "execution_count": 55,
      "outputs": [
        {
          "output_type": "stream",
          "name": "stdout",
          "text": [
            "{'first': 'Teja', 'last': 'sree'}\n"
          ]
        }
      ]
    },
    {
      "cell_type": "code",
      "source": [
        "# PYTHON LIBRARIES--->Collection of Modules\n",
        "#Ex: NUMPY,PANDAS,MATLPLOTLIB,SKLEARN,OPENCV,etc..."
      ],
      "metadata": {
        "id": "yxGZInS5Rwci"
      },
      "execution_count": null,
      "outputs": []
    },
    {
      "cell_type": "code",
      "source": [
        "#NUMPY-->Numerical Python\n",
        "#--->used insted of list\n",
        "#---->this is much more faster and efficient than lists"
      ],
      "metadata": {
        "id": "hdvEdHY2SU00"
      },
      "execution_count": null,
      "outputs": []
    },
    {
      "cell_type": "code",
      "source": [
        "import numpy as np  #np is just a variable if you want to change u can change it to any thing u want.\n",
        "a=np.array(1)  # scalar--->zero dimensions\n",
        "a"
      ],
      "metadata": {
        "colab": {
          "base_uri": "https://localhost:8080/"
        },
        "id": "mMvCURvWSq-O",
        "outputId": "2ebd483d-0fee-4852-f916-b7e2347fae8f"
      },
      "execution_count": 60,
      "outputs": [
        {
          "output_type": "execute_result",
          "data": {
            "text/plain": [
              "array(1)"
            ]
          },
          "metadata": {},
          "execution_count": 60
        }
      ]
    },
    {
      "cell_type": "code",
      "source": [
        "a.shape #no rows and coloums"
      ],
      "metadata": {
        "colab": {
          "base_uri": "https://localhost:8080/"
        },
        "id": "XjbnIHXDTayY",
        "outputId": "def1b1a5-b87d-43bc-bddc-2eb24e777ee2"
      },
      "execution_count": 61,
      "outputs": [
        {
          "output_type": "execute_result",
          "data": {
            "text/plain": [
              "()"
            ]
          },
          "metadata": {},
          "execution_count": 61
        }
      ]
    },
    {
      "cell_type": "code",
      "source": [
        "a.ndim # dimensions in the variable"
      ],
      "metadata": {
        "colab": {
          "base_uri": "https://localhost:8080/"
        },
        "id": "i6isjZLITkc_",
        "outputId": "06bbee76-f1bc-4d57-8b56-7c72be13b2fe"
      },
      "execution_count": 65,
      "outputs": [
        {
          "output_type": "execute_result",
          "data": {
            "text/plain": [
              "0"
            ]
          },
          "metadata": {},
          "execution_count": 65
        }
      ]
    },
    {
      "cell_type": "code",
      "source": [
        "a.size # show the number of elements in the given variable"
      ],
      "metadata": {
        "colab": {
          "base_uri": "https://localhost:8080/"
        },
        "id": "OCA6ikcjTl7I",
        "outputId": "4321f627-2f8a-435d-fd96-7c58333cbb2c"
      },
      "execution_count": 64,
      "outputs": [
        {
          "output_type": "execute_result",
          "data": {
            "text/plain": [
              "1"
            ]
          },
          "metadata": {},
          "execution_count": 64
        }
      ]
    },
    {
      "cell_type": "code",
      "source": [
        "a=np.array(1) # scalar -->zero dimensional\n",
        "b=np.array([1,2,3,4,5,6,7]) # vector -->1 dimmensional\n",
        "b"
      ],
      "metadata": {
        "colab": {
          "base_uri": "https://localhost:8080/"
        },
        "id": "QLxgxl6PUN0K",
        "outputId": "f01a7480-50b7-476a-f352-880933ecaa75"
      },
      "execution_count": 66,
      "outputs": [
        {
          "output_type": "execute_result",
          "data": {
            "text/plain": [
              "array([1, 2, 3, 4, 5, 6, 7])"
            ]
          },
          "metadata": {},
          "execution_count": 66
        }
      ]
    },
    {
      "cell_type": "code",
      "source": [
        "b.shape #represents that 7 coloums and 1 row"
      ],
      "metadata": {
        "colab": {
          "base_uri": "https://localhost:8080/"
        },
        "id": "EEv9mNZLUb6o",
        "outputId": "a47b926f-dece-48cc-8c83-df060ea7affe"
      },
      "execution_count": 68,
      "outputs": [
        {
          "output_type": "execute_result",
          "data": {
            "text/plain": [
              "(7,)"
            ]
          },
          "metadata": {},
          "execution_count": 68
        }
      ]
    },
    {
      "cell_type": "code",
      "source": [
        "b.ndim # 1 Dimensional means a vector"
      ],
      "metadata": {
        "colab": {
          "base_uri": "https://localhost:8080/"
        },
        "id": "O9irSxZRUxcl",
        "outputId": "d5b6a749-4cb5-4c2f-a103-3eb3f499f934"
      },
      "execution_count": 69,
      "outputs": [
        {
          "output_type": "execute_result",
          "data": {
            "text/plain": [
              "1"
            ]
          },
          "metadata": {},
          "execution_count": 69
        }
      ]
    },
    {
      "cell_type": "code",
      "source": [
        "b.size"
      ],
      "metadata": {
        "colab": {
          "base_uri": "https://localhost:8080/"
        },
        "id": "mnAYKiH7U3n5",
        "outputId": "2108f3a7-5dee-4aef-aac3-42382f80afc3"
      },
      "execution_count": 70,
      "outputs": [
        {
          "output_type": "execute_result",
          "data": {
            "text/plain": [
              "7"
            ]
          },
          "metadata": {},
          "execution_count": 70
        }
      ]
    },
    {
      "cell_type": "code",
      "source": [
        "a=np.array(1) #--->0 dimensional\n",
        "b=np.array([1,24,56,78,9,0]) #--->1 dimensional(coloums*rows)\n",
        "c=np.array([[1,2,34],[3,4,56]]) #---->2 dimensional(rows*coloums)\n",
        "print(\"a=\",a)\n",
        "print(\"b=\",b)\n",
        "print(\"c=\",c)"
      ],
      "metadata": {
        "colab": {
          "base_uri": "https://localhost:8080/"
        },
        "id": "24SAe43OU49x",
        "outputId": "4675588b-a6ac-4d60-b27d-90b826bd25b5"
      },
      "execution_count": 79,
      "outputs": [
        {
          "output_type": "stream",
          "name": "stdout",
          "text": [
            "a= 1\n",
            "b= [ 1 24 56 78  9  0]\n",
            "c= [[ 1  2 34]\n",
            " [ 3  4 56]]\n"
          ]
        }
      ]
    },
    {
      "cell_type": "code",
      "source": [
        "c.size"
      ],
      "metadata": {
        "colab": {
          "base_uri": "https://localhost:8080/"
        },
        "id": "GBZn5sWOWqWu",
        "outputId": "7efa4b01-06fd-4389-a176-f59f3471f6d3"
      },
      "execution_count": 80,
      "outputs": [
        {
          "output_type": "execute_result",
          "data": {
            "text/plain": [
              "6"
            ]
          },
          "metadata": {},
          "execution_count": 80
        }
      ]
    },
    {
      "cell_type": "code",
      "source": [
        "c.shape   # 2 rows and 3 coloums"
      ],
      "metadata": {
        "colab": {
          "base_uri": "https://localhost:8080/"
        },
        "id": "3MNEqu-XWt2N",
        "outputId": "7bf3aa63-3188-4f47-f9ee-1502bbcdc353"
      },
      "execution_count": 81,
      "outputs": [
        {
          "output_type": "execute_result",
          "data": {
            "text/plain": [
              "(2, 3)"
            ]
          },
          "metadata": {},
          "execution_count": 81
        }
      ]
    },
    {
      "cell_type": "code",
      "source": [
        "c.ndim # 2 dimensions --->MATRIX"
      ],
      "metadata": {
        "colab": {
          "base_uri": "https://localhost:8080/"
        },
        "id": "bOYmD3reW0mG",
        "outputId": "e4a74e64-a21b-4a6c-f6da-0c463d8214ca"
      },
      "execution_count": 82,
      "outputs": [
        {
          "output_type": "execute_result",
          "data": {
            "text/plain": [
              "2"
            ]
          },
          "metadata": {},
          "execution_count": 82
        }
      ]
    },
    {
      "cell_type": "code",
      "source": [
        "np.random.seed(0) ## keeps the firstly generated value as permanent set\n",
        "## np=numpy-->numerical python : random= collection of libraries : randint()= range of  libraries and how many numbers u need\n",
        "d=np.random.randint(10,50,10) # from the range (10,50), i need 10 numbers\n",
        "print(\"d=\",d)"
      ],
      "metadata": {
        "colab": {
          "base_uri": "https://localhost:8080/"
        },
        "id": "jbiAKP_ZXwZD",
        "outputId": "6a0a43bf-d29d-4e3b-958f-05ff9cf0017c"
      },
      "execution_count": 96,
      "outputs": [
        {
          "output_type": "stream",
          "name": "stdout",
          "text": [
            "d= [32 23 34 13 14 33 45 12 33 39]\n"
          ]
        }
      ]
    },
    {
      "cell_type": "code",
      "source": [
        "d.size"
      ],
      "metadata": {
        "colab": {
          "base_uri": "https://localhost:8080/"
        },
        "id": "485bcKSqbji_",
        "outputId": "198ec6a3-39b8-4ce1-89dd-e5c9bc216553"
      },
      "execution_count": 97,
      "outputs": [
        {
          "output_type": "execute_result",
          "data": {
            "text/plain": [
              "10"
            ]
          },
          "metadata": {},
          "execution_count": 97
        }
      ]
    },
    {
      "cell_type": "code",
      "source": [
        "d.shape ## 10 coloums and 1 row"
      ],
      "metadata": {
        "colab": {
          "base_uri": "https://localhost:8080/"
        },
        "id": "9s18dMoSbk3W",
        "outputId": "47236bae-8268-4296-e1d1-f61b56755cf8"
      },
      "execution_count": 98,
      "outputs": [
        {
          "output_type": "execute_result",
          "data": {
            "text/plain": [
              "(10,)"
            ]
          },
          "metadata": {},
          "execution_count": 98
        }
      ]
    },
    {
      "cell_type": "code",
      "source": [
        "d.ndim"
      ],
      "metadata": {
        "colab": {
          "base_uri": "https://localhost:8080/"
        },
        "id": "RbrXYD23bn5C",
        "outputId": "7b3aa430-ddb9-4b63-e0f1-29fad9726020"
      },
      "execution_count": 100,
      "outputs": [
        {
          "output_type": "execute_result",
          "data": {
            "text/plain": [
              "1"
            ]
          },
          "metadata": {},
          "execution_count": 100
        }
      ]
    },
    {
      "cell_type": "code",
      "source": [
        "d=d.reshape(2,5) ## 2*5 = total elements\n",
        "print(\"new_d=\",d)"
      ],
      "metadata": {
        "colab": {
          "base_uri": "https://localhost:8080/"
        },
        "id": "j1Qv1Dv4bwBh",
        "outputId": "188003cc-1d20-4616-db66-2979e992fc42"
      },
      "execution_count": 106,
      "outputs": [
        {
          "output_type": "stream",
          "name": "stdout",
          "text": [
            "d= [[32 23 34 13 14]\n",
            " [33 45 12 33 39]]\n",
            "new_d= [[32 23 34 13 14]\n",
            " [33 45 12 33 39]]\n"
          ]
        }
      ]
    },
    {
      "cell_type": "code",
      "source": [
        "d.reshape(5,2) ## 5*2=total elements"
      ],
      "metadata": {
        "colab": {
          "base_uri": "https://localhost:8080/"
        },
        "id": "loQVVdO1b77K",
        "outputId": "548e2edf-7411-42d5-e40f-306190d6a321"
      },
      "execution_count": 102,
      "outputs": [
        {
          "output_type": "execute_result",
          "data": {
            "text/plain": [
              "array([[32, 23],\n",
              "       [34, 13],\n",
              "       [14, 33],\n",
              "       [45, 12],\n",
              "       [33, 39]])"
            ]
          },
          "metadata": {},
          "execution_count": 102
        }
      ]
    }
  ]
}